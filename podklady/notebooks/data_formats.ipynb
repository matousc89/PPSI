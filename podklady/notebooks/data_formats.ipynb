{
 "cells": [
  {
   "cell_type": "markdown",
   "metadata": {},
   "source": [
    "# Skladování dat\n",
    "\n",
    "## JSON\n",
    "\n",
    "<a href=\"https://en.wikipedia.org/wiki/JSON\">JavaScript Object Notation (JSON)</a> je datový formát určený pro přenos dat. Vstupem je libovolná datová struktura (číslo, řetězec, boolean, objekt nebo z nich složené pole), výstupem je vždy řetězec. JSON objekt může být teoreticky libovolně složitý (do šířky i hloubky).\n",
    "\n",
    "Pro práci s tímto formátem je v Pythonu připravena knihovna <a href=\"https://docs.python.org/3/library/json.html\">json</a>. Tato knihovna je schopna převést Pythonní objekt (složený z různých běžných proměných a kontejnerů) na řetězec, který představuje validní JSON Následně tato knihovna dokáže z JSON složit Pythonní objekt. Následuje příklad jak složit ukázkový Pythonní objekt do JSON textu."
   ]
  },
  {
   "cell_type": "code",
   "execution_count": 4,
   "metadata": {},
   "outputs": [
    {
     "name": "stdout",
     "output_type": "stream",
     "text": [
      "<type 'str'>\n",
      "[{\"value\": 5, \"time\": 123}, {\"value\": 6, \"time\": 124}, {\"status\": \"ok\", \"finish\": [true, false, false]}]\n"
     ]
    }
   ],
   "source": [
    "import json\n",
    "\n",
    "# ukazkova data\n",
    "message = [\n",
    "    {\"time\": 123, \"value\": 5},\n",
    "    {\"time\": 124, \"value\": 6},\n",
    "    {\"status\": \"ok\", \"finish\": [True, False, False]}, \n",
    "]\n",
    "\n",
    "# zabalit zpravu\n",
    "js_message = json.dumps(message)\n",
    "\n",
    "# show result\n",
    "print(type(js_message))\n",
    "print(js_message)"
   ]
  },
  {
   "cell_type": "markdown",
   "metadata": {},
   "source": [
    "Následuje příklad, ve kterém se vezme JSON text z předchozího příkladu a zpátku se z něj složí objekt."
   ]
  },
  {
   "cell_type": "code",
   "execution_count": 2,
   "metadata": {},
   "outputs": [
    {
     "name": "stdout",
     "output_type": "stream",
     "text": [
      "<type 'list'>\n",
      "[{u'value': 5, u'time': 123}, {u'value': 6, u'time': 124}, {u'status': u'ok', u'finish': [True, False, False]}]\n"
     ]
    }
   ],
   "source": [
    "# unpack message\n",
    "message = json.loads(js_message)\n",
    "\n",
    "# show result\n",
    "print(type(message))\n",
    "print(message)"
   ]
  },
  {
   "cell_type": "markdown",
   "metadata": {},
   "source": [
    "Ve formátu json můžou být libovolně mezery a nové řádky. Z toho plyne že je možné naformátovat JSON tak, aby byl lépe čitelný. Příklad následuje na předchozích datech."
   ]
  },
  {
   "cell_type": "code",
   "execution_count": 5,
   "metadata": {},
   "outputs": [
    {
     "name": "stdout",
     "output_type": "stream",
     "text": [
      "<type 'str'>\n",
      "[\n",
      "    {\n",
      "        \"value\": 5, \n",
      "        \"time\": 123\n",
      "    }, \n",
      "    {\n",
      "        \"value\": 6, \n",
      "        \"time\": 124\n",
      "    }, \n",
      "    {\n",
      "        \"status\": \"ok\", \n",
      "        \"finish\": [\n",
      "            true, \n",
      "            false, \n",
      "            false\n",
      "        ]\n",
      "    }\n",
      "]\n"
     ]
    }
   ],
   "source": [
    "# zabalit zpravu\n",
    "js_message = json.dumps(message, indent=4)\n",
    "\n",
    "# show result\n",
    "print(type(js_message))\n",
    "print(js_message)"
   ]
  },
  {
   "cell_type": "markdown",
   "metadata": {},
   "source": [
    "## Pickle\n",
    "\n",
    "<a href=\"https://docs.python.org/3/library/pickle.html\">Pickle</a> je ryze Pythonní knihovna, která slouží k snadnému ukládání Pythonních objektů. Následuje příklad, v kterém jsou ukázková data serializována pomocí knihovny pickle do soubor `save.ph`."
   ]
  },
  {
   "cell_type": "code",
   "execution_count": 7,
   "metadata": {},
   "outputs": [],
   "source": [
    "import pickle\n",
    "\n",
    "# ukazkova data\n",
    "message = [\n",
    "    {\"time\": 123, \"value\": 5},\n",
    "    {\"time\": 124, \"value\": 6},\n",
    "    {\"status\": \"ok\", \"finish\": [True, False, False]}, \n",
    "]\n",
    "\n",
    "# serizalizace pomoci pickle\n",
    "pickle.dump(message, open( \"save.p\", \"wb\" ))"
   ]
  },
  {
   "cell_type": "markdown",
   "metadata": {},
   "source": [
    "Následuje příklad kde jsou uložená data deserializována zpátky do Pythonního objektu."
   ]
  },
  {
   "cell_type": "code",
   "execution_count": 9,
   "metadata": {},
   "outputs": [
    {
     "name": "stdout",
     "output_type": "stream",
     "text": [
      "<type 'list'>\n",
      "[{'value': 5, 'time': 123}, {'value': 6, 'time': 124}, {'status': 'ok', 'finish': [True, False, False]}]\n"
     ]
    }
   ],
   "source": [
    "# otevrit soubor pomoci pickle\n",
    "loaded_message =  pickle.load(open( \"save.p\", \"rb\" ))\n",
    "\n",
    "# tisk dat\n",
    "print(type(loaded_message))\n",
    "print(loaded_message)"
   ]
  },
  {
   "cell_type": "code",
   "execution_count": null,
   "metadata": {},
   "outputs": [],
   "source": []
  }
 ],
 "metadata": {
  "kernelspec": {
   "display_name": "Python 3",
   "language": "python",
   "name": "python3"
  },
  "language_info": {
   "codemirror_mode": {
    "name": "ipython",
    "version": 2
   },
   "file_extension": ".py",
   "mimetype": "text/x-python",
   "name": "python",
   "nbconvert_exporter": "python",
   "pygments_lexer": "ipython2",
   "version": "2.7.14"
  }
 },
 "nbformat": 4,
 "nbformat_minor": 2
}
