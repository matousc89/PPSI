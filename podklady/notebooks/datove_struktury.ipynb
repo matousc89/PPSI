{
 "cells": [
  {
   "cell_type": "markdown",
   "metadata": {},
   "source": [
    "# Datové struktury\n",
    "V tomto tutoriálu jsou představeny další datové struktury (kolekce) a způsob práce s nimi."
   ]
  },
  {
   "cell_type": "markdown",
   "metadata": {},
   "source": [
    "## Tuple\n",
    "Objekt tuple je podobný jako list. Největší rozdíl je, že tuple není možné měnit. Jelikož Tuple nemá tolik operací jako list, tak práce s ním je rychlejší. Příklad vytvoření objektu tuple následuje."
   ]
  },
  {
   "cell_type": "code",
   "execution_count": 23,
   "metadata": {},
   "outputs": [
    {
     "name": "stdout",
     "output_type": "stream",
     "text": [
      "(1, 2, 3, 'a')\n"
     ]
    },
    {
     "data": {
      "text/plain": [
       "tuple"
      ]
     },
     "execution_count": 23,
     "metadata": {},
     "output_type": "execute_result"
    }
   ],
   "source": [
    "a = (1, 2, 3, \"a\") # vytvori tuple\n",
    "print(a)\n",
    "type(a)"
   ]
  },
  {
   "cell_type": "markdown",
   "metadata": {},
   "source": [
    "Poznámky k objektu tuple:\n",
    "* tuple je pro práci rychlejší než list\n",
    "* objekty v tuple jsou nezměnitelné (není možné měnit a přidívat objekty do tuple)\n",
    "* je možné získat objekty z tuple pomocí indexování a porcování\n",
    "* je možné používat podobné operace jako pro listy (spojení dvou objektů tuple, opakování)\n",
    "* stejně jako u objektu list, pořadí objektů v tuple je dáno"
   ]
  },
  {
   "cell_type": "markdown",
   "metadata": {},
   "source": [
    "## Slovník\n",
    "Slovník je neseřazený kontejner na páry klíč/hodnota. Klíč zde nahrazuje index. Proto ve slovníku není pořadí (narozdíl od objektů list a tuple). Příklad následuje."
   ]
  },
  {
   "cell_type": "code",
   "execution_count": 24,
   "metadata": {},
   "outputs": [
    {
     "name": "stdout",
     "output_type": "stream",
     "text": [
      "{'age': '30', 'name': 'John Doe'}\n",
      "<class 'dict'>\n"
     ]
    }
   ],
   "source": [
    "a = {\"name\":\"John Doe\", \"age\":\"30\"}\n",
    "print(a)\n",
    "print(type(a))"
   ]
  },
  {
   "cell_type": "markdown",
   "metadata": {},
   "source": [
    "Z indexování pomocí klíče vyplývá následující:\n",
    "* pokud zapíšete hodnotu ke klíči, který už existuje, hodnota je přepsána\n",
    "* pokud zapíšete hodnotu ke klíči, který neexistuje, je vytvořen tento nový pár klíč/hodnota\n",
    "\n",
    "See examples"
   ]
  },
  {
   "cell_type": "code",
   "execution_count": 25,
   "metadata": {},
   "outputs": [
    {
     "name": "stdout",
     "output_type": "stream",
     "text": [
      "{'age': '30', 'name': 'Borg'}\n"
     ]
    }
   ],
   "source": [
    "a[\"name\"] = \"Borg\" # ve vytvorenem slovniku prepise hodnotu u klice name\n",
    "print(a)"
   ]
  },
  {
   "cell_type": "code",
   "execution_count": 26,
   "metadata": {},
   "outputs": [
    {
     "name": "stdout",
     "output_type": "stream",
     "text": [
      "{'location': 'space', 'age': '30', 'name': 'Borg'}\n"
     ]
    }
   ],
   "source": [
    "a[\"location\"] = \"space\" # ve vytvorenem slovniku vytvori novy par klic/hodnota\n",
    "print(a)"
   ]
  },
  {
   "cell_type": "markdown",
   "metadata": {},
   "source": [
    "## Převody mezi datovýma strukturama\n",
    "Převod mezi objekty list a tuple je ukázáno na následujících příkladech."
   ]
  },
  {
   "cell_type": "code",
   "execution_count": 27,
   "metadata": {},
   "outputs": [],
   "source": [
    "a = [\"a\", \"b\", \"c\", \"d\", \"e\"] # ukazkovy list\n",
    "a = tuple(a) # prevod na tuple\n",
    "a = list(a) # zpet na list"
   ]
  },
  {
   "cell_type": "markdown",
   "metadata": {},
   "source": [
    "Převod mezi slovníkem a listem (nebo tuple) není tak jednoduchý. Jednoduchý příklad následuje. Objekt obsahuje vnořené objekty, které mají přesně dvě položky. Kdyby obsahovaly jiný počet položek, konverze by nebyla možná."
   ]
  },
  {
   "cell_type": "code",
   "execution_count": 28,
   "metadata": {},
   "outputs": [
    {
     "data": {
      "text/plain": [
       "{'a': 1, 'b': 2, 'c': 1}"
      ]
     },
     "execution_count": 28,
     "metadata": {},
     "output_type": "execute_result"
    }
   ],
   "source": [
    "a = [[\"a\", 1], [\"b\", 2], [\"c\", 1]]\n",
    "dict(a)"
   ]
  },
  {
   "cell_type": "markdown",
   "metadata": {},
   "source": [
    "##  List comprehensions a generátory\n",
    "List comprehensions a generátory jsou nástroje pro usnadnějí práce při vytváření listů nebo iterování."
   ]
  },
  {
   "cell_type": "markdown",
   "metadata": {},
   "source": [
    "### List comprehensions\n",
    "Tato funkce je jednořádková náhrada za for smyčku. Následuje příklad."
   ]
  },
  {
   "cell_type": "code",
   "execution_count": 29,
   "metadata": {},
   "outputs": [
    {
     "name": "stdout",
     "output_type": "stream",
     "text": [
      "[4, 10, 6, 10, 2, 6]\n"
     ]
    }
   ],
   "source": [
    "x = (2, 5, 3, 5, 1, 3)\n",
    "a = [2 * item for item in x] # list comprehension\n",
    "print(a)"
   ]
  },
  {
   "cell_type": "markdown",
   "metadata": {},
   "source": [
    "Poznámka: podobné komprese je možné dělat i se slovníky."
   ]
  },
  {
   "cell_type": "markdown",
   "metadata": {},
   "source": [
    "### Generátory\n",
    "Generátory jsou podobné jako list comprehension. Rozdíl je v tom, že generátor nevytvoří objekt obsahující položky, ale pouze se chová jako takový objekt. Jinými slovy, chová se jako objekt přes který je možný iterovat, aniž by se celý vytvořil najednou v paměti. Z tohoto důvodu je možné generátor použít pouze jednou a pouze v jednom směru (není možné indexovat). Generátory jsou výhodné, pokud chcete ušetřit místo v paměti."
   ]
  },
  {
   "cell_type": "code",
   "execution_count": 30,
   "metadata": {},
   "outputs": [
    {
     "name": "stdout",
     "output_type": "stream",
     "text": [
      "<generator object <genexpr> at 0xb47841bc>\n"
     ]
    }
   ],
   "source": [
    "x = (2, 5, 3, 5, 1, 3)\n",
    "a = (2 * item for item in x) # generator\n",
    "print(a)"
   ]
  },
  {
   "cell_type": "code",
   "execution_count": 31,
   "metadata": {},
   "outputs": [
    {
     "name": "stdout",
     "output_type": "stream",
     "text": [
      "4\n",
      "10\n",
      "6\n",
      "10\n",
      "2\n",
      "6\n"
     ]
    }
   ],
   "source": [
    "for item in a:\n",
    "    print(item) # vytiskne hodnotu z generatoru"
   ]
  }
 ],
 "metadata": {
  "kernelspec": {
   "display_name": "Python 3",
   "language": "python",
   "name": "python3"
  },
  "language_info": {
   "codemirror_mode": {
    "name": "ipython",
    "version": 2
   },
   "file_extension": ".py",
   "mimetype": "text/x-python",
   "name": "python",
   "nbconvert_exporter": "python",
   "pygments_lexer": "ipython2",
   "version": "2.7.14"
  }
 },
 "nbformat": 4,
 "nbformat_minor": 2
}
