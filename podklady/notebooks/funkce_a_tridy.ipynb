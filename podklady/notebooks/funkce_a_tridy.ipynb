{
 "cells": [
  {
   "cell_type": "markdown",
   "metadata": {},
   "source": [
    "# Funkce a třídy\n",
    "## Funkce\n",
    "Následuje příklad definice funkce, která sečte dva argumenty - *a*, *b*."
   ]
  },
  {
   "cell_type": "code",
   "execution_count": 1,
   "metadata": {
    "collapsed": true
   },
   "outputs": [],
   "source": [
    "def my_function(a, b):\n",
    "    \"\"\"\n",
    "    This function sum together two variables (if they are summable).\n",
    "    \"\"\"\n",
    "    return a + b   "
   ]
  },
  {
   "cell_type": "markdown",
   "metadata": {},
   "source": [
    "Funkce může být opakovaně použita kde sčítání různých argumentů (čísel, textu i listů)"
   ]
  },
  {
   "cell_type": "code",
   "execution_count": 2,
   "metadata": {
    "collapsed": false
   },
   "outputs": [
    {
     "data": {
      "text/plain": [
       "7"
      ]
     },
     "execution_count": 2,
     "metadata": {},
     "output_type": "execute_result"
    }
   ],
   "source": [
    "my_function(2, 5)"
   ]
  },
  {
   "cell_type": "code",
   "execution_count": 3,
   "metadata": {
    "collapsed": false
   },
   "outputs": [
    {
     "data": {
      "text/plain": [
       "'Spam eggs'"
      ]
     },
     "execution_count": 3,
     "metadata": {},
     "output_type": "execute_result"
    }
   ],
   "source": [
    "my_function(\"Spam \", \"eggs\")"
   ]
  },
  {
   "cell_type": "code",
   "execution_count": 4,
   "metadata": {
    "collapsed": false
   },
   "outputs": [
    {
     "data": {
      "text/plain": [
       "[1, 2, 'A', 5, 5.3]"
      ]
     },
     "execution_count": 4,
     "metadata": {},
     "output_type": "execute_result"
    }
   ],
   "source": [
    "my_function([1, 2, \"A\"], [5, 5.3])"
   ]
  },
  {
   "cell_type": "markdown",
   "metadata": {},
   "source": [
    "**Poznámka:** Funkce nemusí mít žádné argumenty a nemusí ani mít příkaz *return*. Funce bez *return* vrací *None*."
   ]
  },
  {
   "cell_type": "markdown",
   "metadata": {},
   "source": [
    "### Argumenty a klíčové argumenty\n",
    "* Argumenty (arguments, **args**) jsou povinné. Když voláte funkce, argumenty musí být zadané. Záleží na jejich pořadí.\n",
    "* Klíčové argumenty (keyword arguments, **kwargs**) jsou nepovinné, můžou mít zadanou defaultní hodnotu. Nezáleží na jejich pořadí.\n",
    "\n",
    "Následuje příklad, kde jsou užity navíc i klíčové argumenty."
   ]
  },
  {
   "cell_type": "code",
   "execution_count": 5,
   "metadata": {
    "collapsed": true
   },
   "outputs": [],
   "source": [
    "def my_function(arg1, arg2, kwarg1=0, kwarg2=0):\n",
    "    \"\"\"\n",
    "    This function accepts two args and two kwargs.\n",
    "    Product is sum of all args and kwargs\n",
    "    \"\"\"\n",
    "    return arg1 + arg2 + kwarg1 + kwarg2"
   ]
  },
  {
   "cell_type": "code",
   "execution_count": 6,
   "metadata": {
    "collapsed": false
   },
   "outputs": [
    {
     "data": {
      "text/plain": [
       "8.5"
      ]
     },
     "execution_count": 6,
     "metadata": {},
     "output_type": "execute_result"
    }
   ],
   "source": [
    "my_function(2, 3., kwarg1=1.5, kwarg2=2)"
   ]
  },
  {
   "cell_type": "code",
   "execution_count": 7,
   "metadata": {
    "collapsed": false
   },
   "outputs": [
    {
     "data": {
      "text/plain": [
       "8.5"
      ]
     },
     "execution_count": 7,
     "metadata": {},
     "output_type": "execute_result"
    }
   ],
   "source": [
    "my_function(2, 3., 1.5, 2.)"
   ]
  },
  {
   "cell_type": "code",
   "execution_count": 8,
   "metadata": {
    "collapsed": false
   },
   "outputs": [
    {
     "data": {
      "text/plain": [
       "5.0"
      ]
     },
     "execution_count": 8,
     "metadata": {},
     "output_type": "execute_result"
    }
   ],
   "source": [
    "my_function(2, 3.)"
   ]
  },
  {
   "cell_type": "code",
   "execution_count": 9,
   "metadata": {
    "collapsed": false
   },
   "outputs": [
    {
     "data": {
      "text/plain": [
       "8.0"
      ]
     },
     "execution_count": 9,
     "metadata": {},
     "output_type": "execute_result"
    }
   ],
   "source": [
    "my_function(2, 3., kwarg2=3.)"
   ]
  },
  {
   "cell_type": "markdown",
   "metadata": {},
   "source": [
    "## Třídy"
   ]
  },
  {
   "cell_type": "markdown",
   "metadata": {},
   "source": [
    "Třída je předpis, podle kterého je možné vytvářet instance - objekty. Příklad jednoduché třídy následuje."
   ]
  },
  {
   "cell_type": "code",
   "execution_count": 10,
   "metadata": {
    "collapsed": true
   },
   "outputs": [],
   "source": [
    "class Example():\n",
    "    \n",
    "    def __init__(self):\n",
    "        \"\"\"\n",
    "        This is constructor. This function runs during creation.\n",
    "        \"\"\"\n",
    "        print(\"Instance created.\")\n",
    "        \n",
    "    def __del__(self):\n",
    "        \"\"\"\n",
    "        This is something like destructor. This function runs when the last pointer to the instance is lost.\n",
    "        It is the last will of the instance.\n",
    "        \"\"\"\n",
    "        print(\"Instance deleted\")       "
   ]
  },
  {
   "cell_type": "markdown",
   "metadata": {},
   "source": [
    "Instance objektu může být vytvořena následovně. Všimněte si, že po přespání refence na instanci, je instance hned zničena."
   ]
  },
  {
   "cell_type": "code",
   "execution_count": 11,
   "metadata": {
    "collapsed": false
   },
   "outputs": [
    {
     "name": "stdout",
     "output_type": "stream",
     "text": [
      "Instance created.\n",
      "Instance deleted\n"
     ]
    }
   ],
   "source": [
    "f = Example()\n",
    "f = None"
   ]
  },
  {
   "cell_type": "markdown",
   "metadata": {},
   "source": [
    "Funkce *__del__* (destruktor) se většinou nepoužívá. Ale funkce *__init__* (konstruktor) je nejčastější způsob jak inicializovat proměnné nebo činnost instance. V následujícím příkladě má konstruktor instance dva argumenty, které se uloží tak, aby byly přístupné i ostatním funkcím v dané instanci."
   ]
  },
  {
   "cell_type": "code",
   "execution_count": 12,
   "metadata": {
    "collapsed": false
   },
   "outputs": [],
   "source": [
    "class Food():\n",
    "    \n",
    "    def __init__(self, portion_size, unit_mass):\n",
    "        self.portion_size = portion_size # make it accessible from outside\n",
    "        self.unit_mass = unit_mass\n",
    "        self.UNIT = \"g\"\n",
    "\n",
    "    def get_portion_mass(self):\n",
    "        \"\"\"\n",
    "        This function returns mass of the portion with unit as string.\n",
    "        \"\"\"\n",
    "        return str(self.portion_size * self.unit_mass) + \" \" + self.UNIT    "
   ]
  },
  {
   "cell_type": "markdown",
   "metadata": {},
   "source": [
    "Následuje příklad jak předat argumenty konstruktoru a jak zavolat vytvořenou funkci dané instance."
   ]
  },
  {
   "cell_type": "code",
   "execution_count": 13,
   "metadata": {
    "collapsed": false
   },
   "outputs": [
    {
     "data": {
      "text/plain": [
       "'300 g'"
      ]
     },
     "execution_count": 13,
     "metadata": {},
     "output_type": "execute_result"
    }
   ],
   "source": [
    "f = Food(10, 30) # create food with specific parameters\n",
    "f.get_portion_mass() # get mass of a single portion"
   ]
  },
  {
   "cell_type": "markdown",
   "metadata": {},
   "source": [
    "### Dědičnost\n",
    "Ukázka využíti dědičnosti následuje."
   ]
  },
  {
   "cell_type": "code",
   "execution_count": 14,
   "metadata": {
    "collapsed": false
   },
   "outputs": [],
   "source": [
    "class Fruit(Food):\n",
    "    \n",
    "    def __init__(self, portion_size, unit_mass, sweetness=0):\n",
    "        super(self.__class__, self).__init__(portion_size, unit_mass)\n",
    "        self.sweetness = sweetness\n",
    "        \n",
    "class Vegetable(Food):\n",
    "    \n",
    "    def __init__(self, portion_size, unit_mass, is_green=False):\n",
    "        super(self.__class__, self).__init__(portion_size, unit_mass)\n",
    "        self.is_green = is_green"
   ]
  },
  {
   "cell_type": "markdown",
   "metadata": {},
   "source": [
    "Takto zděděné třídy mají všechny proměnné a funkce původní třídy *Food*."
   ]
  },
  {
   "cell_type": "code",
   "execution_count": 15,
   "metadata": {
    "collapsed": false
   },
   "outputs": [
    {
     "data": {
      "text/plain": [
       "50"
      ]
     },
     "execution_count": 15,
     "metadata": {},
     "output_type": "execute_result"
    }
   ],
   "source": [
    "apple = Fruit(10, 30, 50)\n",
    "apple.sweetness"
   ]
  },
  {
   "cell_type": "code",
   "execution_count": 16,
   "metadata": {
    "collapsed": false
   },
   "outputs": [
    {
     "data": {
      "text/plain": [
       "'300 g'"
      ]
     },
     "execution_count": 16,
     "metadata": {},
     "output_type": "execute_result"
    }
   ],
   "source": [
    "apple.get_portion_mass()"
   ]
  }
 ],
 "metadata": {
  "kernelspec": {
   "display_name": "Python 3",
   "language": "python",
   "name": "python3"
  },
  "language_info": {
   "codemirror_mode": {
    "name": "ipython",
    "version": 3
   },
   "file_extension": ".py",
   "mimetype": "text/x-python",
   "name": "python",
   "nbconvert_exporter": "python",
   "pygments_lexer": "ipython3",
   "version": "3.4.3"
  }
 },
 "nbformat": 4,
 "nbformat_minor": 0
}
