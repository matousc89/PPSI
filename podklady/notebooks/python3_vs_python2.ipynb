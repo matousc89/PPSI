{
 "cells": [
  {
   "cell_type": "markdown",
   "metadata": {
    "deletable": true,
    "editable": true
   },
   "source": [
    "# Python 2 a Python 3\n",
    "\n",
    "## Přehled rozdílů\n",
    "\n",
    "Podle Python Wiki: Python 2.x je pozůstalost, Python 3.x je současnost a budoucnost jazyka Python.\n",
    "    \n",
    "**Python 2 (P2) výhody:**\n",
    "* P2 ve spoustě Linuxových distribucí je tento jazyk defaultní volba\n",
    "* P2 má zatím asi stále více balíčků než P3\n",
    "\n",
    "**Python 3 (P3) výhody:**\n",
    "* P3 je vyvíjený (je v něm budoucnost)\n",
    "* P3 je lepší pro začátečníky <a href=\"http://python-notes.curiousefficiency.org/en/latest/python3/questions_and_answers.html#why-is-python-3-considered-a-better-language-to-teach-beginning-programmers\">Python 3 Q & A</a>\n",
    "\n",
    "**Poznámky:**\n",
    "\n",
    "* Můžete si nainstalovat oba (P2 i P3) na stejném počítači. Pokud je P2 nastaven jako defaultní, můžete skripty spouštět jako:\n",
    "\n",
    "    P2:   `python your_script.py`  \n",
    "    \n",
    "    P3:   `python3 your_scirpt.py`\n",
    "    \n",
    "\n",
    "* Můžete používat obe věrze souběžně (dokonce více podverzí) pomocí <a href=\"https://pypi.python.org/pypi/virtualenv\">Virtualenv</a> (tohle je ideální řešení).\n",
    "\n",
    "## Rozdíly a jejich obcházení\n",
    "\n",
    "Některé zajímavé nově přidané věci v P3 (nejsou v P2):\n",
    "    \n",
    "* string je Unicode defaultně\n",
    "* řetězení vyjímek\n",
    "* anotace funkcí\n",
    "* deklarace nelokálních proměnných\n",
    "\n",
    "Tohle je jen pár příkladů z celého seznamu novinek.\n",
    "\n",
    "### Problém s dělením\n",
    "\n",
    "Python 2:\n",
    "\n",
    "`4 / 3 = 1.` \n",
    "\n",
    "\n",
    "Python 3 (dělí floatem defaultně - intuitivní přístup):\n",
    "\n",
    "`4 / 3 = 1.3333333333333`\n",
    "\n",
    "Pokud chcete v P2 používat toto chování z P3, použíjte následující import"
   ]
  },
  {
   "cell_type": "code",
   "execution_count": 1,
   "metadata": {
    "collapsed": false,
    "deletable": true,
    "editable": true
   },
   "outputs": [],
   "source": [
    "from __future__ import division"
   ]
  },
  {
   "cell_type": "markdown",
   "metadata": {
    "deletable": true,
    "editable": true
   },
   "source": [
    "### Příkaz print \n",
    "\n",
    "Python 2:\n",
    "\n",
    "`print 'abc', 1` \n",
    "\n",
    "\n",
    "Python 3:\n",
    "\n",
    "`print('abc', 1)`\n",
    "\n",
    "Pokud chcete v P2 používat toto chování z P3, použíjte následující import"
   ]
  },
  {
   "cell_type": "code",
   "execution_count": 2,
   "metadata": {
    "collapsed": true,
    "deletable": true,
    "editable": true
   },
   "outputs": [],
   "source": [
    "from __future__ import print_function"
   ]
  }
 ],
 "metadata": {
  "kernelspec": {
   "display_name": "Python 3",
   "language": "python",
   "name": "python3"
  },
  "language_info": {
   "codemirror_mode": {
    "name": "ipython",
    "version": 3
   },
   "file_extension": ".py",
   "mimetype": "text/x-python",
   "name": "python",
   "nbconvert_exporter": "python",
   "pygments_lexer": "ipython3",
   "version": "3.4.3"
  }
 },
 "nbformat": 4,
 "nbformat_minor": 0
}
