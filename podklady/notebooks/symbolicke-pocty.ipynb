{
 "cells": [
  {
   "cell_type": "markdown",
   "metadata": {
    "deletable": true,
    "editable": true
   },
   "source": [
    "# Symbolické počty\n",
    "V tomto tutoriálu je představen modul [Sympy](http://www.sympy.org/en/index.html), který slouží k počtům se symbolickou proměnnou v Pythonu. Kód pro import Sympy a nastavení Pylabu následuje."
   ]
  },
  {
   "cell_type": "code",
   "execution_count": 1,
   "metadata": {
    "collapsed": false,
    "deletable": true,
    "editable": true
   },
   "outputs": [],
   "source": [
    "# inline plots \n",
    "%matplotlib inline \n",
    "# import sympy\n",
    "import sympy as sp "
   ]
  },
  {
   "cell_type": "markdown",
   "metadata": {
    "deletable": true,
    "editable": true
   },
   "source": [
    "Aby bylo možné zobrazit výstup ze Sympy pomocí Latex rovnicí v Jupyter Notebook, následující nastavení musí být provedeno."
   ]
  },
  {
   "cell_type": "code",
   "execution_count": 2,
   "metadata": {
    "collapsed": true,
    "deletable": true,
    "editable": true
   },
   "outputs": [],
   "source": [
    "sp.init_printing(use_latex='mathjax')"
   ]
  },
  {
   "cell_type": "markdown",
   "metadata": {
    "deletable": true,
    "editable": true
   },
   "source": [
    "***\n",
    "## Práce se Sympy\n",
    "Na začátku je potřeba si vytvořit symbolické proměnné. Příklad následuje."
   ]
  },
  {
   "cell_type": "code",
   "execution_count": 3,
   "metadata": {
    "collapsed": true,
    "deletable": true,
    "editable": true
   },
   "outputs": [],
   "source": [
    "x, y, z = sp.symbols('x y z')"
   ]
  },
  {
   "cell_type": "markdown",
   "metadata": {
    "deletable": true,
    "editable": true
   },
   "source": [
    "Od teď je možné proměnné `x, y, z` (Sympy objekty proměnná) používat při počtech."
   ]
  },
  {
   "cell_type": "code",
   "execution_count": 4,
   "metadata": {
    "collapsed": false,
    "deletable": true,
    "editable": true
   },
   "outputs": [
    {
     "data": {
      "text/latex": [
       "$$x + y = z$$"
      ],
      "text/plain": [
       "x + y = z"
      ]
     },
     "execution_count": 4,
     "metadata": {},
     "output_type": "execute_result"
    }
   ],
   "source": [
    "sp.Eq(x + y, z) # create equation"
   ]
  },
  {
   "cell_type": "code",
   "execution_count": 5,
   "metadata": {
    "collapsed": false,
    "deletable": true,
    "editable": true
   },
   "outputs": [
    {
     "data": {
      "text/latex": [
       "$$x^{2} + y - \\frac{2}{x}$$"
      ],
      "text/plain": [
       " 2       2\n",
       "x  + y - ─\n",
       "         x"
      ]
     },
     "execution_count": 5,
     "metadata": {},
     "output_type": "execute_result"
    }
   ],
   "source": [
    "sp.simplify(x**2 + y - 2*z / (x*z)) # simplify expression"
   ]
  },
  {
   "cell_type": "markdown",
   "metadata": {
    "deletable": true,
    "editable": true
   },
   "source": [
    "Některé funkce Sympy dokáží také pracovat s výrazem/rovnicí zadanou jako text. V tomto případě není potřeba proměnné vytvářet předem. V následujícím příkladu užijeme proměnné *a* a *b*, které předtím nijak nedefinujeme!"
   ]
  },
  {
   "cell_type": "code",
   "execution_count": 6,
   "metadata": {
    "collapsed": false,
    "deletable": true,
    "editable": true
   },
   "outputs": [
    {
     "data": {
      "text/latex": [
       "$$a + b^{2}$$"
      ],
      "text/plain": [
       "     2\n",
       "a + b "
      ]
     },
     "execution_count": 6,
     "metadata": {},
     "output_type": "execute_result"
    }
   ],
   "source": [
    "sp.simplify(\"a + b**2\")"
   ]
  },
  {
   "cell_type": "markdown",
   "metadata": {
    "deletable": true,
    "editable": true
   },
   "source": [
    "Některé funkce vrací svůj výsledek ve formě objektu, který je možný následně použít. Ukázáno na příkladu."
   ]
  },
  {
   "cell_type": "code",
   "execution_count": 7,
   "metadata": {
    "collapsed": false,
    "deletable": true,
    "editable": true
   },
   "outputs": [
    {
     "data": {
      "text/plain": [
       "sympy.core.add.Add"
      ]
     },
     "execution_count": 7,
     "metadata": {},
     "output_type": "execute_result"
    }
   ],
   "source": [
    "f = sp.simplify(\"a + b**2 / (a*b)\") # creation of Sympy object - expression\n",
    "type(f)"
   ]
  },
  {
   "cell_type": "code",
   "execution_count": 8,
   "metadata": {
    "collapsed": false,
    "deletable": true,
    "editable": true
   },
   "outputs": [
    {
     "data": {
      "text/latex": [
       "$$\\frac{1}{a} \\left(a^{2} + b\\right)$$"
      ],
      "text/plain": [
       " 2    \n",
       "a  + b\n",
       "──────\n",
       "  a   "
      ]
     },
     "execution_count": 8,
     "metadata": {},
     "output_type": "execute_result"
    }
   ],
   "source": [
    "f.cancel()"
   ]
  },
  {
   "cell_type": "markdown",
   "metadata": {
    "deletable": true,
    "editable": true
   },
   "source": [
    "Poznámka: alternativní použití podobných funkcí je možno přímo s textem jako argument - příklad následuje:"
   ]
  },
  {
   "cell_type": "code",
   "execution_count": 9,
   "metadata": {
    "collapsed": false,
    "deletable": true,
    "editable": true
   },
   "outputs": [
    {
     "data": {
      "text/latex": [
       "$$\\frac{1}{a} \\left(a^{2} + b\\right)$$"
      ],
      "text/plain": [
       " 2    \n",
       "a  + b\n",
       "──────\n",
       "  a   "
      ]
     },
     "execution_count": 9,
     "metadata": {},
     "output_type": "execute_result"
    }
   ],
   "source": [
    "sp.cancel(\"a + b**2 / (a*b)\")"
   ]
  },
  {
   "cell_type": "markdown",
   "metadata": {
    "deletable": true,
    "editable": true
   },
   "source": [
    "***\n",
    "## Úpravy výrazů\n",
    "Následují příklady úprav výrazů na výrazu: $\\frac{z+\\frac{x^3 + 1}{y^2}}{2(1-x)+x^2}$"
   ]
  },
  {
   "cell_type": "code",
   "execution_count": 10,
   "metadata": {
    "collapsed": true,
    "deletable": true,
    "editable": true
   },
   "outputs": [],
   "source": [
    "f = '(1+(x**3+1/x**2))/(2*(1-x)+x**2)'"
   ]
  },
  {
   "cell_type": "markdown",
   "metadata": {
    "deletable": true,
    "editable": true
   },
   "source": [
    "### Zjednodušení výrazu"
   ]
  },
  {
   "cell_type": "code",
   "execution_count": 11,
   "metadata": {
    "collapsed": false,
    "deletable": true,
    "editable": true
   },
   "outputs": [
    {
     "data": {
      "text/latex": [
       "$$\\frac{x^{3} + 1 + \\frac{1}{x^{2}}}{x^{2} - 2 x + 2}$$"
      ],
      "text/plain": [
       " 3       1  \n",
       "x  + 1 + ── \n",
       "          2 \n",
       "         x  \n",
       "────────────\n",
       " 2          \n",
       "x  - 2⋅x + 2"
      ]
     },
     "execution_count": 11,
     "metadata": {},
     "output_type": "execute_result"
    }
   ],
   "source": [
    "sp.sympify(f)"
   ]
  },
  {
   "cell_type": "markdown",
   "metadata": {
    "deletable": true,
    "editable": true
   },
   "source": [
    "### Převedení na kanonickou formu"
   ]
  },
  {
   "cell_type": "code",
   "execution_count": 12,
   "metadata": {
    "collapsed": false,
    "deletable": true,
    "editable": true
   },
   "outputs": [
    {
     "data": {
      "text/latex": [
       "$$\\frac{x^{5} + x^{2} + 1}{x^{4} - 2 x^{3} + 2 x^{2}}$$"
      ],
      "text/plain": [
       "   5    2       \n",
       "  x  + x  + 1   \n",
       "────────────────\n",
       " 4      3      2\n",
       "x  - 2⋅x  + 2⋅x "
      ]
     },
     "execution_count": 12,
     "metadata": {},
     "output_type": "execute_result"
    }
   ],
   "source": [
    "sp.cancel(f)"
   ]
  },
  {
   "cell_type": "markdown",
   "metadata": {
    "deletable": true,
    "editable": true
   },
   "source": [
    "### Rozložení na faktory"
   ]
  },
  {
   "cell_type": "code",
   "execution_count": 13,
   "metadata": {
    "collapsed": false,
    "deletable": true,
    "editable": true
   },
   "outputs": [
    {
     "data": {
      "text/latex": [
       "$$\\frac{x^{5} + x^{2} + 1}{x^{2} \\left(x^{2} - 2 x + 2\\right)}$$"
      ],
      "text/plain": [
       "    5    2       \n",
       "   x  + x  + 1   \n",
       "─────────────────\n",
       " 2 ⎛ 2          ⎞\n",
       "x ⋅⎝x  - 2⋅x + 2⎠"
      ]
     },
     "execution_count": 13,
     "metadata": {},
     "output_type": "execute_result"
    }
   ],
   "source": [
    "sp.factor(f)"
   ]
  },
  {
   "cell_type": "markdown",
   "metadata": {
    "deletable": true,
    "editable": true
   },
   "source": [
    "### Rozklad"
   ]
  },
  {
   "cell_type": "code",
   "execution_count": 14,
   "metadata": {
    "collapsed": false,
    "deletable": true,
    "editable": true
   },
   "outputs": [
    {
     "data": {
      "text/latex": [
       "$$\\frac{x^{3}}{x^{2} - 2 x + 2} + \\frac{1}{x^{4} - 2 x^{3} + 2 x^{2}} + \\frac{1}{x^{2} - 2 x + 2}$$"
      ],
      "text/plain": [
       "      3                                       \n",
       "     x                1                1      \n",
       "──────────── + ──────────────── + ────────────\n",
       " 2              4      3      2    2          \n",
       "x  - 2⋅x + 2   x  - 2⋅x  + 2⋅x    x  - 2⋅x + 2"
      ]
     },
     "execution_count": 14,
     "metadata": {},
     "output_type": "execute_result"
    }
   ],
   "source": [
    "sp.expand(f)"
   ]
  },
  {
   "cell_type": "markdown",
   "metadata": {
    "deletable": true,
    "editable": true
   },
   "source": [
    "### Rozklad na parciální zlomky"
   ]
  },
  {
   "cell_type": "code",
   "execution_count": 15,
   "metadata": {
    "collapsed": false,
    "deletable": true,
    "editable": true
   },
   "outputs": [
    {
     "data": {
      "text/latex": [
       "$$x + \\frac{3 x - 5}{2 x^{2} - 4 x + 4} + 2 + \\frac{1}{2 x} + \\frac{1}{2 x^{2}}$$"
      ],
      "text/plain": [
       "        3⋅x - 5             1     1  \n",
       "x + ──────────────── + 2 + ─── + ────\n",
       "      ⎛ 2          ⎞       2⋅x      2\n",
       "    2⋅⎝x  - 2⋅x + 2⎠             2⋅x "
      ]
     },
     "execution_count": 15,
     "metadata": {},
     "output_type": "execute_result"
    }
   ],
   "source": [
    "fs = sp.simplify(f)\n",
    "sp.apart(fs)"
   ]
  },
  {
   "cell_type": "markdown",
   "metadata": {
    "deletable": true,
    "editable": true
   },
   "source": [
    "### Dosazení hodnoty"
   ]
  },
  {
   "cell_type": "code",
   "execution_count": 16,
   "metadata": {
    "collapsed": false,
    "deletable": true,
    "editable": true
   },
   "outputs": [
    {
     "data": {
      "text/latex": [
       "$$\\frac{3151}{425}$$"
      ],
      "text/plain": [
       "3151\n",
       "────\n",
       "425 "
      ]
     },
     "execution_count": 16,
     "metadata": {},
     "output_type": "execute_result"
    }
   ],
   "source": [
    "fs.subs(\"x\", 5)"
   ]
  },
  {
   "cell_type": "markdown",
   "metadata": {
    "deletable": true,
    "editable": true
   },
   "source": [
    "***\n",
    "## Řešení rovnic\n",
    "### Kořeny rovnice\n",
    "Následují dva příklady jak získat kořeny rovnice."
   ]
  },
  {
   "cell_type": "code",
   "execution_count": 17,
   "metadata": {
    "collapsed": true,
    "deletable": true,
    "editable": true
   },
   "outputs": [],
   "source": [
    "f = \"x**2 +3*x -4\""
   ]
  },
  {
   "cell_type": "code",
   "execution_count": 18,
   "metadata": {
    "collapsed": false,
    "deletable": true,
    "editable": true
   },
   "outputs": [
    {
     "data": {
      "text/latex": [
       "$$\\left \\{ -4 : 1, \\quad 1 : 1\\right \\}$$"
      ],
      "text/plain": [
       "{-4: 1, 1: 1}"
      ]
     },
     "execution_count": 18,
     "metadata": {},
     "output_type": "execute_result"
    }
   ],
   "source": [
    "sp.roots(f)"
   ]
  },
  {
   "cell_type": "markdown",
   "metadata": {
    "deletable": true,
    "editable": true
   },
   "source": [
    "Nebo:"
   ]
  },
  {
   "cell_type": "code",
   "execution_count": 19,
   "metadata": {
    "collapsed": false,
    "deletable": true,
    "editable": true
   },
   "outputs": [
    {
     "data": {
      "text/latex": [
       "$$\\left [ -4, \\quad 1\\right ]$$"
      ],
      "text/plain": [
       "[-4, 1]"
      ]
     },
     "execution_count": 19,
     "metadata": {},
     "output_type": "execute_result"
    }
   ],
   "source": [
    "sp.solve(f)\n"
   ]
  },
  {
   "cell_type": "markdown",
   "metadata": {
    "deletable": true,
    "editable": true
   },
   "source": [
    "### Řešení soustavy rovnic\n",
    "Pomocí Sympy je možné zadat soustavu rovnic více způsoby. Následuje příklad jak vytvořit soustavu:\n",
    "\n",
    "$ a + b = 1 $\n",
    "\n",
    "$ a^4 = c $\n",
    "\n",
    "$ b - 5/2 = 3 $\n",
    "\n",
    "pomocí listu rovnic."
   ]
  },
  {
   "cell_type": "code",
   "execution_count": 20,
   "metadata": {
    "collapsed": false,
    "deletable": true,
    "editable": true
   },
   "outputs": [
    {
     "data": {
      "text/latex": [
       "$$\\left [ \\left \\{ a : -4.5, \\quad b : 5.5, \\quad c : 410.0625\\right \\}\\right ]$$"
      ],
      "text/plain": [
       "[{a: -4.5, b: 5.5, c: 410.0625}]"
      ]
     },
     "execution_count": 20,
     "metadata": {},
     "output_type": "execute_result"
    }
   ],
   "source": [
    "a, b, c = sp.symbols(\"a, b, c\")\n",
    "equations = [\n",
    "    sp.Eq(a + b, 1),\n",
    "    sp.Eq(a**4, c),\n",
    "    sp.Eq(b - 5/2, 3),\n",
    "]\n",
    "sp.solve(equations)"
   ]
  },
  {
   "cell_type": "markdown",
   "metadata": {
    "deletable": true,
    "editable": true
   },
   "source": [
    "Poznámka: všiměte si, že vrácen je slovnik uvnitř listu."
   ]
  },
  {
   "cell_type": "markdown",
   "metadata": {
    "deletable": true,
    "editable": true
   },
   "source": [
    "***\n",
    "## Kalkulus\n",
    "\n",
    "### Derivace"
   ]
  },
  {
   "cell_type": "code",
   "execution_count": 21,
   "metadata": {
    "collapsed": false,
    "deletable": true,
    "editable": true
   },
   "outputs": [
    {
     "data": {
      "text/latex": [
       "$$\\frac{d}{d x}\\left(2 x \\sqrt{\\frac{1}{x}}\\right)$$"
      ],
      "text/plain": [
       "  ⎛        ___⎞\n",
       "d ⎜       ╱ 1 ⎟\n",
       "──⎜2⋅x⋅  ╱  ─ ⎟\n",
       "dx⎝    ╲╱   x ⎠"
      ]
     },
     "execution_count": 21,
     "metadata": {},
     "output_type": "execute_result"
    }
   ],
   "source": [
    "fd = sp.Derivative('2*x*sqrt(1/x)',x)\n",
    "fd"
   ]
  },
  {
   "cell_type": "code",
   "execution_count": 22,
   "metadata": {
    "collapsed": false,
    "deletable": true,
    "editable": true
   },
   "outputs": [
    {
     "data": {
      "text/latex": [
       "$$\\sqrt{\\frac{1}{x}}$$"
      ],
      "text/plain": [
       "    ___\n",
       "   ╱ 1 \n",
       "  ╱  ─ \n",
       "╲╱   x "
      ]
     },
     "execution_count": 22,
     "metadata": {},
     "output_type": "execute_result"
    }
   ],
   "source": [
    "fd.doit()"
   ]
  },
  {
   "cell_type": "markdown",
   "metadata": {
    "deletable": true,
    "editable": true
   },
   "source": [
    "### Integrál"
   ]
  },
  {
   "cell_type": "code",
   "execution_count": 23,
   "metadata": {
    "collapsed": false,
    "deletable": true,
    "editable": true
   },
   "outputs": [
    {
     "data": {
      "text/latex": [
       "$$\\int 2 x \\sqrt{\\frac{1}{x}}\\, dx$$"
      ],
      "text/plain": [
       "⌠               \n",
       "⎮         ___   \n",
       "⎮        ╱ 1    \n",
       "⎮ 2⋅x⋅  ╱  ─  dx\n",
       "⎮     ╲╱   x    \n",
       "⌡               "
      ]
     },
     "execution_count": 23,
     "metadata": {},
     "output_type": "execute_result"
    }
   ],
   "source": [
    "fi = sp.Integral('2*x*sqrt(1/x)',x)\n",
    "fi"
   ]
  },
  {
   "cell_type": "code",
   "execution_count": 24,
   "metadata": {
    "collapsed": false,
    "deletable": true,
    "editable": true
   },
   "outputs": [
    {
     "data": {
      "text/latex": [
       "$$\\frac{4 x^{2}}{3} \\sqrt{\\frac{1}{x}}$$"
      ],
      "text/plain": [
       "         ___\n",
       "   2    ╱ 1 \n",
       "4⋅x ⋅  ╱  ─ \n",
       "     ╲╱   x \n",
       "────────────\n",
       "     3      "
      ]
     },
     "execution_count": 24,
     "metadata": {},
     "output_type": "execute_result"
    }
   ],
   "source": [
    "fi.doit()"
   ]
  },
  {
   "cell_type": "markdown",
   "metadata": {
    "deletable": true,
    "editable": true
   },
   "source": [
    "### Limity"
   ]
  },
  {
   "cell_type": "code",
   "execution_count": 25,
   "metadata": {
    "collapsed": false,
    "deletable": true,
    "editable": true
   },
   "outputs": [
    {
     "data": {
      "text/latex": [
       "$$\\lim_{x \\to 0^+}\\left(\\frac{1}{x} \\sin{\\left (x \\right )}\\right)$$"
      ],
      "text/plain": [
       "     sin(x)\n",
       " lim ──────\n",
       "x─→0⁺  x   "
      ]
     },
     "execution_count": 25,
     "metadata": {},
     "output_type": "execute_result"
    }
   ],
   "source": [
    "fl = sp.Limit('sin(x)/x', x, 0)\n",
    "fl"
   ]
  },
  {
   "cell_type": "code",
   "execution_count": 26,
   "metadata": {
    "collapsed": false,
    "deletable": true,
    "editable": true
   },
   "outputs": [
    {
     "data": {
      "text/latex": [
       "$$1$$"
      ],
      "text/plain": [
       "1"
      ]
     },
     "execution_count": 26,
     "metadata": {},
     "output_type": "execute_result"
    }
   ],
   "source": [
    "fl.doit()"
   ]
  },
  {
   "cell_type": "markdown",
   "metadata": {
    "deletable": true,
    "editable": true
   },
   "source": [
    "***\n",
    "## Kreslení grafů\n",
    "Sympy používá Matplotlib ke kreslení grafů. Samotný Matplotlib a jeho pokročilé možnosti jsou předmětem jiného tutoriálů. Následuje několik jednoduchých příkladů, jak použít Matplotlib skrze Sympy."
   ]
  },
  {
   "cell_type": "code",
   "execution_count": 27,
   "metadata": {
    "collapsed": false,
    "deletable": true,
    "editable": true
   },
   "outputs": [
    {
     "data": {
      "image/png": "[encoded data removed]",
      "text/plain": [
       "<matplotlib.figure.Figure at 0xad809b4c>"
      ]
     },
     "metadata": {},
     "output_type": "display_data"
    },
    {
     "data": {
      "text/plain": [
       "<sympy.plotting.plot.Plot at 0xad813d2c>"
      ]
     },
     "execution_count": 27,
     "metadata": {},
     "output_type": "execute_result"
    }
   ],
   "source": [
    "sp.plot(x**2)"
   ]
  },
  {
   "cell_type": "code",
   "execution_count": 28,
   "metadata": {
    "collapsed": false,
    "deletable": true,
    "editable": true
   },
   "outputs": [
    {
     "data": {
      "image/png": "[encoded data removed]",
      "text/plain": [
       "<matplotlib.figure.Figure at 0xad86548c>"
      ]
     },
     "metadata": {},
     "output_type": "display_data"
    },
    {
     "data": {
      "text/plain": [
       "<sympy.plotting.plot.Plot at 0xad747c8c>"
      ]
     },
     "execution_count": 28,
     "metadata": {},
     "output_type": "execute_result"
    }
   ],
   "source": [
    "sp.plot(x**3)"
   ]
  },
  {
   "cell_type": "markdown",
   "metadata": {
    "deletable": true,
    "editable": true
   },
   "source": [
    "***\n",
    "## Vektory a Matice"
   ]
  },
  {
   "cell_type": "code",
   "execution_count": 29,
   "metadata": {
    "collapsed": false,
    "deletable": true,
    "editable": true
   },
   "outputs": [
    {
     "data": {
      "text/latex": [
       "$$\\left[\\begin{matrix}x & -1\\\\3 & x\\\\1 & 2\\end{matrix}\\right]$$"
      ],
      "text/plain": [
       "⎡x  -1⎤\n",
       "⎢     ⎥\n",
       "⎢3  x ⎥\n",
       "⎢     ⎥\n",
       "⎣1  2 ⎦"
      ]
     },
     "execution_count": 29,
     "metadata": {},
     "output_type": "execute_result"
    }
   ],
   "source": [
    "A = sp.Matrix([[x, -1], [3, x], [1, 2]])\n",
    "A"
   ]
  },
  {
   "cell_type": "code",
   "execution_count": 30,
   "metadata": {
    "collapsed": false,
    "deletable": true,
    "editable": true
   },
   "outputs": [
    {
     "data": {
      "text/latex": [
       "$$\\left[\\begin{matrix}1 & -1 & 0\\\\3 & 2 & 4\\end{matrix}\\right]$$"
      ],
      "text/plain": [
       "⎡1  -1  0⎤\n",
       "⎢        ⎥\n",
       "⎣3  2   4⎦"
      ]
     },
     "execution_count": 30,
     "metadata": {},
     "output_type": "execute_result"
    }
   ],
   "source": [
    "B = sp.Matrix([[1, -1, 0], [3, 2, 4]])\n",
    "B"
   ]
  },
  {
   "cell_type": "code",
   "execution_count": 31,
   "metadata": {
    "collapsed": false,
    "deletable": true,
    "editable": true
   },
   "outputs": [
    {
     "data": {
      "text/latex": [
       "$$\\left[\\begin{matrix}\\left(- x - 2\\right) \\left(3 x + 3\\right) + \\left(x - 3\\right)^{2} - 28 & \\left(- x - 2\\right) \\left(x - 3\\right) + \\left(- x - 2\\right) \\left(2 x - 3\\right) - 12 & 4 x \\left(- x - 2\\right) - 4 x - 20\\\\28 x + \\left(x - 3\\right) \\left(3 x + 3\\right) + \\left(2 x - 3\\right) \\left(3 x + 3\\right) & 12 x + \\left(- x - 2\\right) \\left(3 x + 3\\right) + \\left(2 x - 3\\right)^{2} & 4 x \\left(2 x - 3\\right) + 20 x - 12\\\\16 x + 44 & - x + 1 & 12 x + 36\\end{matrix}\\right]$$"
      ],
      "text/plain": [
       "⎡                                  2                                          \n",
       "⎢      (-x - 2)⋅(3⋅x + 3) + (x - 3)  - 28        (-x - 2)⋅(x - 3) + (-x - 2)⋅(\n",
       "⎢                                                                             \n",
       "⎢                                                                             \n",
       "⎢28⋅x + (x - 3)⋅(3⋅x + 3) + (2⋅x - 3)⋅(3⋅x + 3)    12⋅x + (-x - 2)⋅(3⋅x + 3) +\n",
       "⎢                                                                             \n",
       "⎣                  16⋅x + 44                                       -x + 1     \n",
       "\n",
       "                                        ⎤\n",
       "2⋅x - 3) - 12   4⋅x⋅(-x - 2) - 4⋅x - 20 ⎥\n",
       "                                        ⎥\n",
       "          2                             ⎥\n",
       " (2⋅x - 3)     4⋅x⋅(2⋅x - 3) + 20⋅x - 12⎥\n",
       "                                        ⎥\n",
       "                       12⋅x + 36        ⎦"
      ]
     },
     "execution_count": 31,
     "metadata": {},
     "output_type": "execute_result"
    }
   ],
   "source": [
    "(A * B)**2"
   ]
  },
  {
   "cell_type": "code",
   "execution_count": 32,
   "metadata": {
    "collapsed": false,
    "deletable": true,
    "editable": true
   },
   "outputs": [
    {
     "data": {
      "text/latex": [
       "$$\\left[\\begin{matrix}2.5 x - 7.5 & - 2.5 x - 2.5\\\\7.5 x + 25.0 & 5.0 x + 12.5\\end{matrix}\\right]$$"
      ],
      "text/plain": [
       "⎡2.5⋅x - 7.5   -2.5⋅x - 2.5⎤\n",
       "⎢                          ⎥\n",
       "⎣7.5⋅x + 25.0  5.0⋅x + 12.5⎦"
      ]
     },
     "execution_count": 32,
     "metadata": {},
     "output_type": "execute_result"
    }
   ],
   "source": [
    "2.5 * (B * A)"
   ]
  },
  {
   "cell_type": "markdown",
   "metadata": {
    "deletable": true,
    "editable": true
   },
   "source": [
    "### Užitečné konstruktory matic"
   ]
  },
  {
   "cell_type": "code",
   "execution_count": 33,
   "metadata": {
    "collapsed": false,
    "deletable": true,
    "editable": true
   },
   "outputs": [
    {
     "data": {
      "text/latex": [
       "$$\\left[\\begin{matrix}1 & 0 & 0\\\\0 & 1 & 0\\\\0 & 0 & 1\\end{matrix}\\right]$$"
      ],
      "text/plain": [
       "⎡1  0  0⎤\n",
       "⎢       ⎥\n",
       "⎢0  1  0⎥\n",
       "⎢       ⎥\n",
       "⎣0  0  1⎦"
      ]
     },
     "execution_count": 33,
     "metadata": {},
     "output_type": "execute_result"
    }
   ],
   "source": [
    "sp.eye(3)"
   ]
  },
  {
   "cell_type": "code",
   "execution_count": 34,
   "metadata": {
    "collapsed": false,
    "deletable": true,
    "editable": true
   },
   "outputs": [
    {
     "data": {
      "text/latex": [
       "$$\\left[\\begin{matrix}1 & 1\\\\1 & 1\\\\1 & 1\\end{matrix}\\right]$$"
      ],
      "text/plain": [
       "⎡1  1⎤\n",
       "⎢    ⎥\n",
       "⎢1  1⎥\n",
       "⎢    ⎥\n",
       "⎣1  1⎦"
      ]
     },
     "execution_count": 34,
     "metadata": {},
     "output_type": "execute_result"
    }
   ],
   "source": [
    "sp.ones(3,2)"
   ]
  },
  {
   "cell_type": "code",
   "execution_count": 35,
   "metadata": {
    "collapsed": false,
    "deletable": true,
    "editable": true
   },
   "outputs": [
    {
     "data": {
      "text/latex": [
       "$$\\left[\\begin{matrix}0 & 0 & 0\\\\0 & 0 & 0\\end{matrix}\\right]$$"
      ],
      "text/plain": [
       "⎡0  0  0⎤\n",
       "⎢       ⎥\n",
       "⎣0  0  0⎦"
      ]
     },
     "execution_count": 35,
     "metadata": {},
     "output_type": "execute_result"
    }
   ],
   "source": [
    "sp.zeros(2,3)"
   ]
  },
  {
   "cell_type": "markdown",
   "metadata": {
    "deletable": true,
    "editable": true
   },
   "source": [
    "### Determinant a charakteristický polynom matice\n",
    "Následuje ukázka jak získat determinand matice."
   ]
  },
  {
   "cell_type": "code",
   "execution_count": 36,
   "metadata": {
    "collapsed": false,
    "deletable": true,
    "editable": true
   },
   "outputs": [
    {
     "data": {
      "text/latex": [
       "$$- 4 x^{2} + 12 x - 16$$"
      ],
      "text/plain": [
       "     2            \n",
       "- 4⋅x  + 12⋅x - 16"
      ]
     },
     "execution_count": 36,
     "metadata": {},
     "output_type": "execute_result"
    }
   ],
   "source": [
    "C = sp.Matrix([[1, -x, 0], [x, 2, 4], [-3, 2, -4]])\n",
    "C.det()"
   ]
  },
  {
   "cell_type": "markdown",
   "metadata": {
    "deletable": true,
    "editable": true
   },
   "source": [
    "Následující kód získa charakteristický polynom matice *C*."
   ]
  },
  {
   "cell_type": "code",
   "execution_count": 37,
   "metadata": {
    "collapsed": false,
    "deletable": true,
    "editable": true
   },
   "outputs": [
    {
     "data": {
      "text/latex": [
       "$$\\lambda^{3} + \\lambda^{2} + \\lambda x^{2} - 18 \\lambda + 4 x^{2} - 12 x + 16$$"
      ],
      "text/plain": [
       " 3    2      2             2            \n",
       "λ  + λ  + λ⋅x  - 18⋅λ + 4⋅x  - 12⋅x + 16"
      ]
     },
     "execution_count": 37,
     "metadata": {},
     "output_type": "execute_result"
    }
   ],
   "source": [
    "p = C.charpoly()\n",
    "sp.factor(p)"
   ]
  },
  {
   "cell_type": "markdown",
   "metadata": {
    "deletable": true,
    "editable": true
   },
   "source": [
    "### Vlastní čísla, vektory\n",
    "Následují příklady jak spočítat vlastní čísla (*eigenvalues*) a vlastní vektory (*eigenvectors*) matice."
   ]
  },
  {
   "cell_type": "code",
   "execution_count": 38,
   "metadata": {
    "collapsed": false,
    "deletable": true,
    "editable": true
   },
   "outputs": [
    {
     "data": {
      "text/latex": [
       "$$\\left \\{ - \\frac{1}{2} \\sqrt{- 4 x + 1} + \\frac{3}{2} : 1, \\quad \\frac{1}{2} \\sqrt{- 4 x + 1} + \\frac{3}{2} : 1\\right \\}$$"
      ],
      "text/plain": [
       "⎧    __________           __________       ⎫\n",
       "⎪  ╲╱ -4⋅x + 1    3     ╲╱ -4⋅x + 1    3   ⎪\n",
       "⎨- ──────────── + ─: 1, ──────────── + ─: 1⎬\n",
       "⎪       2         2          2         2   ⎪\n",
       "⎩                                          ⎭"
      ]
     },
     "execution_count": 38,
     "metadata": {},
     "output_type": "execute_result"
    }
   ],
   "source": [
    "D = sp.Matrix([[1, -1], [x, 2]])\n",
    "D.eigenvals()"
   ]
  },
  {
   "cell_type": "code",
   "execution_count": 39,
   "metadata": {
    "collapsed": false,
    "deletable": true,
    "editable": true
   },
   "outputs": [
    {
     "data": {
      "text/latex": [
       "$$\\left [ \\left ( - \\frac{1}{2} \\sqrt{- 4 x + 1} + \\frac{3}{2}, \\quad 1, \\quad \\left [ \\left[\\begin{matrix}\\frac{1}{\\frac{1}{2} \\sqrt{- 4 x + 1} - \\frac{1}{2}}\\\\1\\end{matrix}\\right]\\right ]\\right ), \\quad \\left ( \\frac{1}{2} \\sqrt{- 4 x + 1} + \\frac{3}{2}, \\quad 1, \\quad \\left [ \\left[\\begin{matrix}\\frac{1}{- \\frac{1}{2} \\sqrt{- 4 x + 1} - \\frac{1}{2}}\\\\1\\end{matrix}\\right]\\right ]\\right )\\right ]$$"
      ],
      "text/plain": [
       "⎡⎛    __________                             ⎞  ⎛  __________                 \n",
       "⎢⎜  ╲╱ -4⋅x + 1    3     ⎡⎡       1        ⎤⎤⎟  ⎜╲╱ -4⋅x + 1    3     ⎡⎡      \n",
       "⎢⎜- ──────────── + ─, 1, ⎢⎢────────────────⎥⎥⎟, ⎜──────────── + ─, 1, ⎢⎢──────\n",
       "⎢⎜       2         2     ⎢⎢  __________    ⎥⎥⎟  ⎜     2         2     ⎢⎢    __\n",
       "⎢⎜                       ⎢⎢╲╱ -4⋅x + 1    1⎥⎥⎟  ⎜                     ⎢⎢  ╲╱ -\n",
       "⎢⎜                       ⎢⎢──────────── - ─⎥⎥⎟  ⎜                     ⎢⎢- ────\n",
       "⎢⎜                       ⎢⎢     2         2⎥⎥⎟  ⎜                     ⎢⎢      \n",
       "⎢⎜                       ⎢⎢                ⎥⎥⎟  ⎜                     ⎢⎢      \n",
       "⎣⎝                       ⎣⎣       1        ⎦⎦⎠  ⎝                     ⎣⎣      \n",
       "\n",
       "              ⎞⎤\n",
       "  1         ⎤⎤⎟⎥\n",
       "────────────⎥⎥⎟⎥\n",
       "________    ⎥⎥⎟⎥\n",
       "4⋅x + 1    1⎥⎥⎟⎥\n",
       "──────── - ─⎥⎥⎟⎥\n",
       " 2         2⎥⎥⎟⎥\n",
       "            ⎥⎥⎟⎥\n",
       "  1         ⎦⎦⎠⎦"
      ]
     },
     "execution_count": 39,
     "metadata": {},
     "output_type": "execute_result"
    }
   ],
   "source": [
    "D.eigenvects()"
   ]
  },
  {
   "cell_type": "markdown",
   "metadata": {
    "deletable": true,
    "editable": true
   },
   "source": [
    "### Řešení soustavy rovnic\n",
    "Hledáme $x$ a $y$ pro následující soustavu rovnic pro jakékoliv $z$:\n",
    " \n",
    "$ 5x -3y = z $\n",
    "\n",
    "$ -4x + 3y = 2 $\n",
    "\n",
    "Pro řešení je soustava nejdříve přepsána maticové podoby:\n",
    "\n",
    "$AX = B$\n",
    "\n",
    "kde $X = [x, y]$. Řešení je potom:\n",
    "\n",
    "$X = A^{-1}B$\n",
    "\n",
    "Realizace pomocí Sympy následuje:"
   ]
  },
  {
   "cell_type": "code",
   "execution_count": 40,
   "metadata": {
    "collapsed": false,
    "deletable": true,
    "editable": true
   },
   "outputs": [
    {
     "data": {
      "text/latex": [
       "$$\\left[\\begin{matrix}z + 2\\\\\\frac{4 z}{3} + \\frac{10}{3}\\end{matrix}\\right]$$"
      ],
      "text/plain": [
       "⎡ z + 2  ⎤\n",
       "⎢        ⎥\n",
       "⎢4⋅z   10⎥\n",
       "⎢─── + ──⎥\n",
       "⎣ 3    3 ⎦"
      ]
     },
     "execution_count": 40,
     "metadata": {},
     "output_type": "execute_result"
    }
   ],
   "source": [
    "A = sp.Matrix([[5, -3], [-4, 3]])\n",
    "B = sp.Matrix([z, 2])\n",
    "X = A**-1 * B\n",
    "X"
   ]
  }
 ],
 "metadata": {
  "kernelspec": {
   "display_name": "Python 3",
   "language": "python",
   "name": "python3"
  },
  "language_info": {
   "codemirror_mode": {
    "name": "ipython",
    "version": 3
   },
   "file_extension": ".py",
   "mimetype": "text/x-python",
   "name": "python",
   "nbconvert_exporter": "python",
   "pygments_lexer": "ipython3",
   "version": "3.4.3"
  }
 },
 "nbformat": 4,
 "nbformat_minor": 2
}
